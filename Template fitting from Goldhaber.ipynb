{
 "cells": [
  {
   "cell_type": "markdown",
   "metadata": {},
   "source": [
    "# First trying to plot the templates used from Goldhaber. Using the third table for the fitting. "
   ]
  },
  {
   "cell_type": "code",
   "execution_count": 39,
   "metadata": {
    "collapsed": true
   },
   "outputs": [],
   "source": [
    "from astropy.table import Table,Column\n",
    "import numpy as np\n",
    "import matplotlib.pyplot as plt\n",
    "%matplotlib inline"
   ]
  },
  {
   "cell_type": "code",
   "execution_count": 40,
   "metadata": {
    "collapsed": false
   },
   "outputs": [
    {
     "data": {
      "text/plain": [
       "76"
      ]
     },
     "execution_count": 40,
     "metadata": {},
     "output_type": "execute_result"
    }
   ],
   "source": [
    "#import excel data\n",
    "\n",
    "t = \"Template from Goldhaber, -18 and -20 parab turn.csv\"\n",
    "\n",
    "\n",
    "#read in table as an astropy table\n",
    "\n",
    "Table_T = Table.read(t)\n",
    "len(Table_T)"
   ]
  },
  {
   "cell_type": "code",
   "execution_count": 41,
   "metadata": {
    "collapsed": false
   },
   "outputs": [
    {
     "name": "stdout",
     "output_type": "stream",
     "text": [
      "Days  flux\n",
      "---- -----\n",
      " -25   0.0\n",
      " -24   0.0\n",
      " -23   0.0\n",
      " -22   0.0\n",
      " -21   0.0\n",
      " -20   0.0\n",
      " -19 0.005\n",
      " -18 0.019\n",
      " -17 0.044\n",
      " -16  0.08\n",
      " ...   ...\n",
      "  40 0.067\n",
      "  41 0.065\n",
      "  42 0.064\n",
      "  43 0.062\n",
      "  44  0.06\n",
      "  45 0.059\n",
      "  46 0.058\n",
      "  47 0.057\n",
      "  48 0.056\n",
      "  49 0.055\n",
      "  50 0.054\n",
      "Length = 76 rows\n"
     ]
    }
   ],
   "source": [
    "print(Table_T)"
   ]
  },
  {
   "cell_type": "code",
   "execution_count": 42,
   "metadata": {
    "collapsed": false
   },
   "outputs": [
    {
     "data": {
      "text/html": [
       "&lt;Table length=76&gt;\n",
       "<table id=\"table2370896741040\" class=\"table-striped table-bordered table-condensed\">\n",
       "<thead><tr><th>Days</th><th>flux</th></tr></thead>\n",
       "<thead><tr><th>int32</th><th>float64</th></tr></thead>\n",
       "<tr><td>-25</td><td>0.0</td></tr>\n",
       "<tr><td>-24</td><td>0.0</td></tr>\n",
       "<tr><td>-23</td><td>0.0</td></tr>\n",
       "<tr><td>-22</td><td>0.0</td></tr>\n",
       "<tr><td>-21</td><td>0.0</td></tr>\n",
       "<tr><td>-20</td><td>0.0</td></tr>\n",
       "<tr><td>-19</td><td>0.005</td></tr>\n",
       "<tr><td>-18</td><td>0.019</td></tr>\n",
       "<tr><td>-17</td><td>0.044</td></tr>\n",
       "<tr><td>-16</td><td>0.08</td></tr>\n",
       "<tr><td>...</td><td>...</td></tr>\n",
       "<tr><td>41</td><td>0.065</td></tr>\n",
       "<tr><td>42</td><td>0.064</td></tr>\n",
       "<tr><td>43</td><td>0.062</td></tr>\n",
       "<tr><td>44</td><td>0.06</td></tr>\n",
       "<tr><td>45</td><td>0.059</td></tr>\n",
       "<tr><td>46</td><td>0.058</td></tr>\n",
       "<tr><td>47</td><td>0.057</td></tr>\n",
       "<tr><td>48</td><td>0.056</td></tr>\n",
       "<tr><td>49</td><td>0.055</td></tr>\n",
       "<tr><td>50</td><td>0.054</td></tr>\n",
       "</table>"
      ],
      "text/plain": [
       "<Table length=76>\n",
       " Days   flux \n",
       "int32 float64\n",
       "----- -------\n",
       "  -25     0.0\n",
       "  -24     0.0\n",
       "  -23     0.0\n",
       "  -22     0.0\n",
       "  -21     0.0\n",
       "  -20     0.0\n",
       "  -19   0.005\n",
       "  -18   0.019\n",
       "  -17   0.044\n",
       "  -16    0.08\n",
       "  ...     ...\n",
       "   41   0.065\n",
       "   42   0.064\n",
       "   43   0.062\n",
       "   44    0.06\n",
       "   45   0.059\n",
       "   46   0.058\n",
       "   47   0.057\n",
       "   48   0.056\n",
       "   49   0.055\n",
       "   50   0.054"
      ]
     },
     "execution_count": 42,
     "metadata": {},
     "output_type": "execute_result"
    }
   ],
   "source": [
    "new_order = ['Days','flux']\n",
    "Table_T_Final = Table_T[new_order]\n",
    "\n",
    "#Print final table\n",
    "Table_T_Final"
   ]
  },
  {
   "cell_type": "code",
   "execution_count": 43,
   "metadata": {
    "collapsed": false
   },
   "outputs": [
    {
     "data": {
      "text/plain": [
       "<matplotlib.text.Text at 0x2280480d518>"
      ]
     },
     "execution_count": 43,
     "metadata": {},
     "output_type": "execute_result"
    },
    {
     "data": {
      "image/png": "[encoded data removed]",
      "text/plain": [
       "<matplotlib.figure.Figure at 0x228033ddac8>"
      ]
     },
     "metadata": {},
     "output_type": "display_data"
    }
   ],
   "source": [
    "plt.plot(Table_T_Final['Days'],Table_T_Final['flux'])\n",
    "\n",
    "plt.title('Template')\n",
    "plt.xlabel('days')\n",
    "plt.ylabel('flux')"
   ]
  },
  {
   "cell_type": "code",
   "execution_count": null,
   "metadata": {
    "collapsed": true
   },
   "outputs": [],
   "source": [
    "#want to import my data, will do so in the b filter. Need my flux and time. My days will be different from the template\n",
    "#and I will need to fix that"
   ]
  },
  {
   "cell_type": "code",
   "execution_count": 44,
   "metadata": {
    "collapsed": false
   },
   "outputs": [
    {
     "name": "stdout",
     "output_type": "stream",
     "text": [
      "     flux     \n",
      "--------------\n",
      " 5.38239062074\n",
      " 5.22119987243\n",
      " 5.20872370832\n",
      " 5.60950610471\n",
      "  5.4202388014\n",
      " 5.11793976194\n",
      " 5.27457487463\n",
      " 5.26601758433\n",
      " 5.54173592741\n",
      " 4.68859200801\n",
      "           ...\n",
      "0.675685316578\n",
      "0.752060443663\n",
      "0.715330648716\n",
      "0.764772401639\n",
      "0.480001428283\n",
      "0.517186891355\n",
      "0.519761371116\n",
      "0.431549671498\n",
      "0.487979952191\n",
      "0.419185885291\n",
      "0.405311750038\n",
      "Length = 207 rows\n"
     ]
    }
   ],
   "source": [
    "data = 'Photometric Data in B brightest CS.csv'\n",
    "\n",
    "#read in again as astropy table\n",
    "\n",
    "Table_data = Table.read(data)\n",
    "len(Table_data)\n",
    "print(Table_data['flux'])"
   ]
  },
  {
   "cell_type": "code",
   "execution_count": 45,
   "metadata": {
    "collapsed": false,
    "scrolled": true
   },
   "outputs": [
    {
     "data": {
      "text/plain": [
       "(-20, 50)"
      ]
     },
     "execution_count": 45,
     "metadata": {},
     "output_type": "execute_result"
    },
    {
     "data": {
      "image/png": "[encoded data removed]",
      "text/plain": [
       "<matplotlib.figure.Figure at 0x228048474a8>"
      ]
     },
     "metadata": {},
     "output_type": "display_data"
    }
   ],
   "source": [
    "\n",
    "#scaled data to roughly match the template axis\n",
    "\n",
    "JD_peak = Table_data['JD'][np.argmax(Table_data['flux'])]\n",
    "plt.errorbar(Table_data['JD']-JD_peak,Table_data['flux']/np.max(Table_data['flux']), yerr = Table_data['fluxerr']/np.max(Table_data['flux']), fmt = 'o')\n",
    "#plt.xlim(2455800,2455900)\n",
    "\n",
    "plt.ylabel('flux')\n",
    "plt.xlabel('days')\n",
    "\n",
    "#template only goes from -9 to 50 days before and after\n",
    "\n",
    "plt.xlim(-20,50)\n"
   ]
  },
  {
   "cell_type": "code",
   "execution_count": 31,
   "metadata": {
    "collapsed": false
   },
   "outputs": [
    {
     "data": {
      "text/plain": [
       "73"
      ]
     },
     "execution_count": 31,
     "metadata": {},
     "output_type": "execute_result"
    }
   ],
   "source": [
    "np.argmax(Table_data['flux'])"
   ]
  },
  {
   "cell_type": "code",
   "execution_count": 32,
   "metadata": {
    "collapsed": false
   },
   "outputs": [
    {
     "data": {
      "text/plain": [
       "2455816.6498379861"
      ]
     },
     "execution_count": 32,
     "metadata": {},
     "output_type": "execute_result"
    }
   ],
   "source": [
    "Table_data['JD'][np.argmax(Table_data['flux'])]"
   ]
  },
  {
   "cell_type": "code",
   "execution_count": 50,
   "metadata": {
    "collapsed": false
   },
   "outputs": [
    {
     "data": {
      "image/png": "[encoded data removed]",
      "text/plain": [
       "<matplotlib.figure.Figure at 0x228048c3780>"
      ]
     },
     "metadata": {},
     "output_type": "display_data"
    }
   ],
   "source": [
    "#lets overlap my lightcurve to the template\n",
    "\n",
    "plt.plot(Table_T_Final['Days'],Table_T_Final['flux'], label = 'template')\n",
    "plt.errorbar(Table_data['JD']-JD_peak,Table_data['flux']/np.max(Table_data['flux']), yerr = Table_data['fluxerr']/np.max(Table_data['flux']), fmt = 'o', label = 'B filter')\n",
    "\n",
    "plt.xlim(-25,50)\n",
    "plt.legend(loc = 'upper right')\n",
    "plt.xlabel('days relative to peak')\n",
    "plt.ylabel('flux')\n",
    "plt.title('B photometric data with template')\n",
    "plt.show()\n"
   ]
  },
  {
   "cell_type": "code",
   "execution_count": null,
   "metadata": {
    "collapsed": true
   },
   "outputs": [],
   "source": []
  }
 ],
 "metadata": {
  "kernelspec": {
   "display_name": "Python 3",
   "language": "python",
   "name": "python3"
  },
  "language_info": {
   "codemirror_mode": {
    "name": "ipython",
    "version": 3
   },
   "file_extension": ".py",
   "mimetype": "text/x-python",
   "name": "python",
   "nbconvert_exporter": "python",
   "pygments_lexer": "ipython3",
   "version": "3.5.2"
  }
 },
 "nbformat": 4,
 "nbformat_minor": 2
}
